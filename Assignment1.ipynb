{
 "cells": [
  {
   "cell_type": "markdown",
   "id": "6e3cb077",
   "metadata": {},
   "source": [
    "# Assignment 1 - NumPy\n",
    "**Name: Niyati** \n",
    "**Roll No: 102303356** "
   ]
  },
  {
   "cell_type": "markdown",
   "id": "28103157",
   "metadata": {},
   "source": [
    "## Q1: Questions on Basic NumPy Array"
   ]
  },
  {
   "cell_type": "markdown",
   "id": "c852212d",
   "metadata": {},
   "source": [
    "### (a) Reverse the NumPy array:\n",
    "arr = np.array([1, 2, 3, 6, 4, 5])"
   ]
  },
  {
   "cell_type": "code",
   "execution_count": 1,
   "id": "0cd165ce",
   "metadata": {},
   "outputs": [
    {
     "name": "stdout",
     "output_type": "stream",
     "text": [
      "Reversed array:  [5 4 6 3 2 1]\n"
     ]
    }
   ],
   "source": [
    "import numpy as np\n",
    "arr = np.array([1, 2, 3, 6, 4, 5])\n",
    "reversed_arr = arr[::-1]\n",
    "print(\"Reversed array: \",reversed_arr)"
   ]
  },
  {
   "cell_type": "markdown",
   "id": "20ced37e",
   "metadata": {},
   "source": [
    "### (b) Flatten the NumPy arr:\n",
    "array1 = np.array([[1, 2, 3], [2, 4, 5], [1, 2, 3]])\n",
    "\n",
    "using any two NumPy in-built methods "
   ]
  },
  {
   "cell_type": "code",
   "execution_count": 2,
   "id": "bfc38cb2",
   "metadata": {},
   "outputs": [
    {
     "name": "stdout",
     "output_type": "stream",
     "text": [
      "Flattened array:  [1 2 3 2 4 5 1 2 3]\n",
      "Raveled array:  [1 2 3 2 4 5 1 2 3]\n"
     ]
    }
   ],
   "source": [
    "array1 = np.array([[1, 2, 3], [2, 4, 5], [1, 2, 3]])\n",
    "flat1= array1.flatten()\n",
    "print(\"Flattened array: \", flat1)\n",
    "\n",
    "flat2= array1.ravel()\n",
    "print(\"Raveled array: \", flat2)"
   ]
  },
  {
   "cell_type": "markdown",
   "id": "6d6ad0ac",
   "metadata": {},
   "source": [
    "### (c) Compare the following numpy arrays: \n",
    "arr1 = np.array([[1, 2], [3, 4]])\n",
    "\n",
    "arr2 = np.array([[1, 2], [3, 4]]) "
   ]
  },
  {
   "cell_type": "code",
   "execution_count": 3,
   "id": "9533a8da",
   "metadata": {},
   "outputs": [
    {
     "name": "stdout",
     "output_type": "stream",
     "text": [
      "arr1 and arr2 are equal:  True\n"
     ]
    }
   ],
   "source": [
    "arr1 = np.array([[1, 2], [3, 4]])\n",
    "arr2 = np.array([[1, 2], [3, 4]])\n",
    "\n",
    "equality_check = np.array_equal(arr1, arr2)\n",
    "print(\"arr1 and arr2 are equal: \", equality_check)"
   ]
  },
  {
   "cell_type": "markdown",
   "id": "4872babb",
   "metadata": {},
   "source": [
    "### (d) Find the most frequent value and their indice(s) in the following arrays: \n",
    "(i) x = np.array([1,2,3,4,5,1,2,1,1,1])\n",
    "\n",
    "(ii) y = np.array([1, 1, 1, 2, 3, 4, 2, 4, 3, 3, ]) "
   ]
  },
  {
   "cell_type": "code",
   "execution_count": 4,
   "id": "8c48b89b",
   "metadata": {},
   "outputs": [
    {
     "name": "stdout",
     "output_type": "stream",
     "text": [
      "Most frequent element in x: 1 at indices: [0 5 7 8 9]\n",
      "Most frequent element in y: 1 at indices: [0 1 2]\n"
     ]
    }
   ],
   "source": [
    "x = np.array([1,2,3,4,5,1,2,1,1,1])\n",
    "y = np.array([1, 1, 1, 2, 3, 4, 2, 4, 3, 3, ]) \n",
    "\n",
    "unique_x, counts_x = np.unique(x, return_counts=True)\n",
    "unique_y, counts_y = np.unique(y, return_counts=True)\n",
    "\n",
    "most_frequent_x = unique_x[np.argmax(counts_x)]\n",
    "indices_x = np.where(x == most_frequent_x)[0]\n",
    "\n",
    "most_frequent_y = unique_y[np.argmax(counts_y)]\n",
    "indices_y = np.where(y == most_frequent_y)[0]\n",
    "\n",
    "print(\"Most frequent element in x:\", most_frequent_x, \"at indices:\", indices_x)\n",
    "print(\"Most frequent element in y:\", most_frequent_y, \"at indices:\", indices_y)"
   ]
  },
  {
   "cell_type": "markdown",
   "id": "11d60271",
   "metadata": {},
   "source": [
    "### (e) For the array gfg = np.matrix('[4, 1, 9; 12, 3, 1; 4, 5, 6]'), find:\n",
    "i. Sum of all elements \n",
    "\n",
    "ii. Sum of all elements row-wise\n",
    "\n",
    "iii. Sum of all elements column-wise "
   ]
  },
  {
   "cell_type": "code",
   "execution_count": 6,
   "id": "2bce5db7",
   "metadata": {},
   "outputs": [
    {
     "name": "stdout",
     "output_type": "stream",
     "text": [
      "Total sum of elements in the matrix: 45\n",
      "Sum of each row:\n",
      " [[14]\n",
      " [16]\n",
      " [15]]\n",
      "Sum of each column: [[20  9 16]]\n"
     ]
    }
   ],
   "source": [
    "gfg = np.matrix('[4, 1, 9; 12, 3, 1; 4, 5, 6]')\n",
    "\n",
    "total_sum = np.sum(gfg)\n",
    "print(\"Total sum of elements in the matrix:\", total_sum)\n",
    "\n",
    "row_sum = np.sum(gfg, axis=1)\n",
    "print(\"Sum of each row:\\n\", row_sum)\n",
    "\n",
    "col_sum = np.sum(gfg, axis=0)\n",
    "print(\"Sum of each column:\", col_sum)"
   ]
  },
  {
   "cell_type": "markdown",
   "id": "fb5dde11",
   "metadata": {},
   "source": [
    "### (f) For the matrix: n_array = np.array([[55, 25, 15],[30, 44, 2],[11, 45, 77]]), find:\n",
    "i. Sum of diagonal elements\n",
    "\n",
    "ii. Eigen values of matrix\n",
    "\n",
    "iii. Eigen vectors of matrix \n",
    "\n",
    "iv. Inverse of matrix\n",
    "\n",
    "v. Determinant of matrix "
   ]
  },
  {
   "cell_type": "code",
   "execution_count": 7,
   "id": "8792a343",
   "metadata": {},
   "outputs": [
    {
     "name": "stdout",
     "output_type": "stream",
     "text": [
      "Sum of diagonal elements: 176\n",
      "Eigenvalues: [98.16835147 28.097044   49.73460452]\n",
      "Eigenvectors:\n",
      " [[ 0.4574917   0.34637121 -0.15017693]\n",
      " [ 0.28447814 -0.72784061 -0.4852124 ]\n",
      " [ 0.84248058  0.59184038  0.8614034 ]]\n",
      "Inverse of the matrix:\n",
      " [[ 0.02404141 -0.00911212 -0.00444671]\n",
      " [-0.01667882  0.02966905  0.0024785 ]\n",
      " [ 0.00631287 -0.01603732  0.01217379]]\n",
      "Determinant of the matrix: 137180.0000000001\n"
     ]
    }
   ],
   "source": [
    "n_array = np.array([[55, 25, 15],[30, 44, 2],[11, 45, 77]])\n",
    "\n",
    "diagonal_sum = np.trace(n_array)\n",
    "print(\"Sum of diagonal elements:\", diagonal_sum)\n",
    "\n",
    "eigenvalues, eigenvectors = np.linalg.eig(n_array)\n",
    "print(\"Eigenvalues:\", eigenvalues)\n",
    "print(\"Eigenvectors:\\n\", eigenvectors)\n",
    "\n",
    "inverse_matrix = np.linalg.inv(n_array)\n",
    "print(\"Inverse of the matrix:\\n\", inverse_matrix)\n",
    "\n",
    "determinant = np.linalg.det(n_array)\n",
    "print(\"Determinant of the matrix:\", determinant)"
   ]
  },
  {
   "cell_type": "markdown",
   "id": "9389898c",
   "metadata": {},
   "source": [
    "### (g) Multiply the following matrices and also find covariance between matrices using NumPy: \n",
    "i.  p = [[1, 2], [2, 3]] and q = [[4, 5], [6, 7]] \n",
    "    \n",
    "ii. p = [[1, 2], [2, 3], [4, 5]] and q = [[4, 5, 1], [6, 7, 2]] "
   ]
  },
  {
   "cell_type": "code",
   "execution_count": 17,
   "id": "2620df57",
   "metadata": {},
   "outputs": [
    {
     "name": "stdout",
     "output_type": "stream",
     "text": [
      "Product of p1 and q1:\n",
      " [[16 19]\n",
      " [26 31]]\n",
      "Covariance matrix of p1 and q1:\n",
      " [[0.5 0.5 0.5 0.5]\n",
      " [0.5 0.5 0.5 0.5]\n",
      " [0.5 0.5 0.5 0.5]\n",
      " [0.5 0.5 0.5 0.5]]\n"
     ]
    }
   ],
   "source": [
    "p1 = [[1, 2], [2, 3]] \n",
    "q1 = [[4, 5], [6, 7]] \n",
    "\n",
    "product1 = np.dot(p1, q1)\n",
    "print(\"Product of p1 and q1:\\n\", product1)\n",
    "cov1 = np.cov(p1, q1)\n",
    "print(\"Covariance matrix of p1 and q1:\\n\", cov1)\n",
    "    \n",
    "# p2 = [[1, 2], [2, 3], [4, 5]]\n",
    "# q2 = [[4, 5, 1], [6, 7, 2]] \n",
    "# product2 = np.dot(p2, q2)\n",
    "# print(\"Product of p2 and q2:\\n\", product2)\n",
    "# cov2 = np.cov(p2, q2)\n",
    "# print(\"Covariance matrix of p2 and q2:\\n\", cov2)"
   ]
  },
  {
   "cell_type": "markdown",
   "id": "db198637",
   "metadata": {},
   "source": [
    "### (h) For the matrices x and y, find inner, outer and cartesian product:\n",
    "x = np.array([[2, 3, 4], [3, 2, 9]])\n",
    "\n",
    "y = np.array([[1, 5, 0], [5, 10, 3]])"
   ]
  },
  {
   "cell_type": "code",
   "execution_count": 9,
   "id": "46d266f8",
   "metadata": {},
   "outputs": [
    {
     "name": "stdout",
     "output_type": "stream",
     "text": [
      "Inner product:\n",
      " [[17 52]\n",
      " [13 62]]\n",
      "Outer product:\n",
      " [[ 2 10  0 10 20  6]\n",
      " [ 3 15  0 15 30  9]\n",
      " [ 4 20  0 20 40 12]\n",
      " [ 3 15  0 15 30  9]\n",
      " [ 2 10  0 10 20  6]\n",
      " [ 9 45  0 45 90 27]]\n",
      "Cartesian product:\n",
      " [[ 2  1]\n",
      " [ 2  5]\n",
      " [ 2  0]\n",
      " [ 2  5]\n",
      " [ 2 10]\n",
      " [ 2  3]\n",
      " [ 3  1]\n",
      " [ 3  5]\n",
      " [ 3  0]\n",
      " [ 3  5]\n",
      " [ 3 10]\n",
      " [ 3  3]\n",
      " [ 4  1]\n",
      " [ 4  5]\n",
      " [ 4  0]\n",
      " [ 4  5]\n",
      " [ 4 10]\n",
      " [ 4  3]\n",
      " [ 3  1]\n",
      " [ 3  5]\n",
      " [ 3  0]\n",
      " [ 3  5]\n",
      " [ 3 10]\n",
      " [ 3  3]\n",
      " [ 2  1]\n",
      " [ 2  5]\n",
      " [ 2  0]\n",
      " [ 2  5]\n",
      " [ 2 10]\n",
      " [ 2  3]\n",
      " [ 9  1]\n",
      " [ 9  5]\n",
      " [ 9  0]\n",
      " [ 9  5]\n",
      " [ 9 10]\n",
      " [ 9  3]]\n"
     ]
    }
   ],
   "source": [
    "x = np.array([[2, 3, 4], [3, 2, 9]])\n",
    "y = np.array([[1, 5, 0], [5, 10, 3]])\n",
    "\n",
    "inner = np.inner(x, y)\n",
    "outer = np.outer(x, y)\n",
    "cartesian_product = np.array(np.meshgrid(x, y)).T.reshape(-1, 2)\n",
    "\n",
    "print(\"Inner product:\\n\", inner)\n",
    "print(\"Outer product:\\n\", outer)        \n",
    "print(\"Cartesian product:\\n\", cartesian_product)"
   ]
  },
  {
   "cell_type": "markdown",
   "id": "1193561e",
   "metadata": {},
   "source": [
    "## Q2: Based on NumPy Mathematics and Statistics"
   ]
  },
  {
   "cell_type": "markdown",
   "id": "e7151c1e",
   "metadata": {},
   "source": [
    "### (a) For the array: array = np.array([[1, -2, 3],[-4, 5, -6]]) \n",
    "i. Find element-wise absolute value \n",
    "\n",
    "ii. Find the 25th, 50th, and 75th percentile of flattened array, for each column, for each row.\n",
    "\n",
    "iii. Mean, Median and Standard Deviation of flattened array, of each column, and each row "
   ]
  },
  {
   "cell_type": "code",
   "execution_count": 10,
   "id": "cc1fbd89",
   "metadata": {},
   "outputs": [
    {
     "name": "stdout",
     "output_type": "stream",
     "text": [
      "Absolute values:\n",
      " [[1 2 3]\n",
      " [4 5 6]]\n",
      "Percentiles (flat): [-3.5 -0.5  2.5]\n",
      "Percentiles (row-wise):\n",
      " [[-2.75 -0.25 -3.75]\n",
      " [-1.5   1.5  -1.5 ]\n",
      " [-0.25  3.25  0.75]]\n",
      "Percentiles (column-wise):\n",
      " [[-0.5 -5. ]\n",
      " [ 1.  -4. ]\n",
      " [ 2.   0.5]]\n",
      "Mean (flat): -0.5\n",
      "Mean (row-wise): [ 0.66666667 -1.66666667]\n",
      "Mean (column-wise): [-1.5  1.5 -1.5]\n",
      "Median (flat): -0.5\n",
      "Median (row-wise): [ 1. -4.]\n",
      "Median (column-wise): [-1.5  1.5 -1.5]\n",
      "Standard Deviation (flat): 3.8622100754188224\n",
      "Standard Deviation (row-wise): [2.05480467 4.78423336]\n",
      "Standard Deviation (column-wise): [2.5 3.5 4.5]\n"
     ]
    }
   ],
   "source": [
    "array = np.array([[1, -2, 3],[-4, 5, -6]]) \n",
    "\n",
    "abs_array = np.abs(array)\n",
    "\n",
    "percentile_flat = np.percentile(array, [25, 50, 75])\n",
    "percentile_row = np.percentile(array, [25, 50, 75], axis=0)\n",
    "percentile_col = np.percentile(array, [25, 50, 75], axis=1)\n",
    "\n",
    "mean_flat = np.mean(array)\n",
    "mean_row = np.mean(array, axis=1)\n",
    "mean_col = np.mean(array, axis=0)\n",
    "\n",
    "median_flat = np.median(array)\n",
    "median_row = np.median(array, axis=1)\n",
    "median_col = np.median(array, axis=0)\n",
    "\n",
    "std_flat = np.std(array)\n",
    "std_row = np.std(array, axis=1)\n",
    "std_col = np.std(array, axis=0)\n",
    "\n",
    "print(\"Absolute values:\\n\", abs_array)\n",
    "print(\"Percentiles (flat):\", percentile_flat)   \n",
    "print(\"Percentiles (row-wise):\\n\", percentile_row)\n",
    "print(\"Percentiles (column-wise):\\n\", percentile_col)\n",
    "print(\"Mean (flat):\", mean_flat)\n",
    "print(\"Mean (row-wise):\", mean_row)\n",
    "print(\"Mean (column-wise):\", mean_col)\n",
    "print(\"Median (flat):\", median_flat)\n",
    "print(\"Median (row-wise):\", median_row)\n",
    "print(\"Median (column-wise):\", median_col)\n",
    "print(\"Standard Deviation (flat):\", std_flat)\n",
    "print(\"Standard Deviation (row-wise):\", std_row)\n",
    "print(\"Standard Deviation (column-wise):\", std_col)"
   ]
  },
  {
   "cell_type": "markdown",
   "id": "7c7aa19e",
   "metadata": {},
   "source": [
    "### (b) For the array: a = np.array([-1.8, -1.6, -0.5, 0.5,1.6, 1.8, 3.0])\n",
    "Find floor, ceiling and truncated value, rounded values"
   ]
  },
  {
   "cell_type": "code",
   "execution_count": null,
   "id": "62b1c073",
   "metadata": {},
   "outputs": [
    {
     "name": "stdout",
     "output_type": "stream",
     "text": [
      "Floor values of the array: [-2. -2. -1.  0.  1.  1.  3.]\n",
      "Ceil values of the array: [-1. -1. -0.  1.  2.  2.  3.]\n",
      "Truncated values of the array: [-1. -1. -0.  0.  1.  1.  3.]\n",
      "Rounded values of the array: [-2. -2. -0.  0.  2.  2.  3.]\n"
     ]
    }
   ],
   "source": [
    "a = np.array([-1.8, -1.6, -0.5, 0.5,1.6, 1.8, 3.0])\n",
    "\n",
    "floor_values = np.floor(a)\n",
    "print(\"Floor values of the array:\", floor_values)\n",
    "\n",
    "ceil_values = np.ceil(a)\n",
    "print(\"Ceil values of the array:\", ceil_values)\n",
    "\n",
    "truncated_values = np.trunc(a)\n",
    "print(\"Truncated values of the array:\", truncated_values)\n",
    "\n",
    "rounded_values = np.round(a)\n",
    "print(\"Rounded values of the array:\", rounded_values)"
   ]
  },
  {
   "cell_type": "markdown",
   "id": "bf5a0a4d",
   "metadata": {},
   "source": [
    "## Q3: Based on Searching and Sorting"
   ]
  },
  {
   "cell_type": "markdown",
   "id": "edf7c36a",
   "metadata": {},
   "source": [
    "### (a) For the array: array = np.array([10, 52, 62, 16, 16, 54, 453]), find \n",
    "i. Sorted array \n",
    "\n",
    "ii. Indices of sorted array\n",
    "\n",
    "iii. 4 smallest elements\n",
    "\n",
    "iv. 5 largest elements "
   ]
  },
  {
   "cell_type": "code",
   "execution_count": 4,
   "id": "74080e0b",
   "metadata": {},
   "outputs": [
    {
     "name": "stdout",
     "output_type": "stream",
     "text": [
      "Sorted array: [ 10  16  16  52  54  62 453]\n",
      "Indices of sorted array: [0 3 4 1 5 2 6]\n",
      "Smallest 4 elements: [10 16 16 52]\n",
      "Largest 5 elements: [ 16  52  54  62 453]\n"
     ]
    }
   ],
   "source": [
    "array = np.array([10, 52, 62, 16, 16, 54, 453])\n",
    "\n",
    "sorted_array = np.sort(array)\n",
    "print(\"Sorted array:\", sorted_array)\n",
    "\n",
    "indicies_sorted = np.argsort(array)\n",
    "print(\"Indices of sorted array:\", indicies_sorted)\n",
    "\n",
    "smallest_4 = np.partition(array, 4)[:4]\n",
    "print(\"Smallest 4 elements:\", smallest_4)\n",
    "\n",
    "largest_5 = np.partition(array, -5)[-5:]\n",
    "print(\"Largest 5 elements:\", largest_5)"
   ]
  },
  {
   "cell_type": "markdown",
   "id": "8c6e30b3",
   "metadata": {},
   "source": [
    "### (b) For the array: array = np.array([1.0, 1.2, 2.2, 2.0, 3.0, 2.0]), find \n",
    "i. Integer elements only \n",
    "\n",
    "ii. Float elements only"
   ]
  },
  {
   "cell_type": "code",
   "execution_count": 5,
   "id": "703168c6",
   "metadata": {},
   "outputs": [
    {
     "name": "stdout",
     "output_type": "stream",
     "text": [
      "Integer elements in the array: [1. 2. 3. 2.]\n",
      "Float elements in the array: [1.2 2.2]\n"
     ]
    }
   ],
   "source": [
    "array = np.array([1.0, 1.2, 2.2, 2.0, 3.0, 2.0])\n",
    "\n",
    "int_elements = array[array == array.astype(int)]\n",
    "print(\"Integer elements in the array:\", int_elements)\n",
    "\n",
    "float_elements = array[array != array.astype(int)]\n",
    "print(\"Float elements in the array:\", float_elements)"
   ]
  },
  {
   "cell_type": "markdown",
   "id": "0424f8a6",
   "metadata": {},
   "source": [
    "## Q4:"
   ]
  },
  {
   "cell_type": "markdown",
   "id": "19401490",
   "metadata": {},
   "source": [
    "(a) Write a function named img_to_array(path) that reads an image from a specified path and save it as text file on local machine? (Note: use separate cases for RGB and Grey Scale images) "
   ]
  },
  {
   "cell_type": "code",
   "execution_count": 15,
   "id": "bdffeb0d",
   "metadata": {},
   "outputs": [
    {
     "name": "stdout",
     "output_type": "stream",
     "text": [
      "Grayscale image saved as 'grayscale_image.txt'\n",
      "RGB image saved as 'rgb.txt'\n"
     ]
    }
   ],
   "source": [
    "from PIL import Image\n",
    "\n",
    "def image_to_array(image_path):\n",
    "    image = Image.open(image_path)\n",
    "    image_array = np.array(image)\n",
    "    \n",
    "    if len(image_array.shape) == 2:\n",
    "        np.savetxt(\"grayscale_image.txt\", image_array, fmt='%d')\n",
    "        print(\"Grayscale image saved as 'grayscale_image.txt'\")\n",
    "    else:\n",
    "        reshaped_array = image_array.reshape(-1, image_array.shape[-1])\n",
    "        np.savetxt(\"rgb.txt\", reshaped_array, fmt='%d')\n",
    "        print(\"RGB image saved as 'rgb.txt'\")\n",
    "    return image_array\n",
    "\n",
    "image_path = r\"C:\\Users\\bhana\\Desktop\\black-dog-gray-srgb.png\"\n",
    "image_array = image_to_array(image_path)\n",
    "\n",
    "image_path = r\"C:\\Users\\bhana\\Desktop\\030150da8ccb2469f5996061a561e490.jpg\"\n",
    "image_array = image_to_array(image_path)"
   ]
  },
  {
   "cell_type": "markdown",
   "id": "6df81782",
   "metadata": {},
   "source": [
    "(b) Load the saved file into jupyter notebook."
   ]
  },
  {
   "cell_type": "code",
   "execution_count": 16,
   "id": "c34ae91c",
   "metadata": {},
   "outputs": [
    {
     "name": "stdout",
     "output_type": "stream",
     "text": [
      "Grayscale image loaded successfully.\n",
      " [[43 65 65 ... 11 35  8]\n",
      " [29 43 65 ... 11  8 28]\n",
      " [34 29 43 ... 35  8 28]\n",
      " ...\n",
      " [43 43 65 ... 21 19 15]\n",
      " [43 43 43 ... 23 44 21]\n",
      " [43 43 43 ...  9 23 23]]\n",
      "RGB image loaded successfully.\n",
      " [[248 240 191]\n",
      " [248 240 191]\n",
      " [247 239 190]\n",
      " ...\n",
      " [247 234 189]\n",
      " [247 234 189]\n",
      " [247 234 189]]\n"
     ]
    }
   ],
   "source": [
    "try:\n",
    "    grayscale_image = np.loadtxt(\"grayscale_image.txt\", dtype=int)\n",
    "    print(\"Grayscale image loaded successfully.\\n\", grayscale_image)\n",
    "except FileNotFoundError:\n",
    "    print(\"Grayscale image file not found. Please ensure the file exists.\")\n",
    "try:\n",
    "    rgb_image = np.loadtxt(\"rgb.txt\", dtype=int)\n",
    "    print(\"RGB image loaded successfully.\\n\", rgb_image)\n",
    "except FileNotFoundError:\n",
    "    print(\"RGB image file not found. Please ensure the file exists.\")"
   ]
  }
 ],
 "metadata": {
  "kernelspec": {
   "display_name": "Python 3",
   "language": "python",
   "name": "python3"
  },
  "language_info": {
   "codemirror_mode": {
    "name": "ipython",
    "version": 3
   },
   "file_extension": ".py",
   "mimetype": "text/x-python",
   "name": "python",
   "nbconvert_exporter": "python",
   "pygments_lexer": "ipython3",
   "version": "3.12.6"
  }
 },
 "nbformat": 4,
 "nbformat_minor": 5
}
