{
 "cells": [
  {
   "cell_type": "markdown",
   "id": "d5bf7c64",
   "metadata": {},
   "source": [
    "# Assignment 2 \n",
    "**Name: Niyati** \n",
    "**Roll No: 102303356** "
   ]
  },
  {
   "cell_type": "code",
   "execution_count": 5,
   "id": "54cea80f",
   "metadata": {},
   "outputs": [],
   "source": [
    "from sklearn.preprocessing import MinMaxScaler, StandardScaler\n",
    "from sklearn.metrics.pairwise import cosine_similarity\n",
    "from scipy.spatial.distance import jaccard\n",
    "import pandas as pd\n",
    "import numpy as np"
   ]
  },
  {
   "cell_type": "markdown",
   "id": "3ea1b43f",
   "metadata": {},
   "source": [
    "## Part I: Based on Feature Selection, Cleaning, and Preprocessing to Construct an Input from Data Source "
   ]
  },
  {
   "cell_type": "markdown",
   "id": "e7aa9887",
   "metadata": {},
   "source": [
    "#### (a) Examine the values of each attribute and Select a set of attributes only that would affect to predict future bike buyers to create your input for data mining algorithms. Remove all the unnecessary attributes. (Select features just by analysis)."
   ]
  },
  {
   "cell_type": "markdown",
   "id": "6a256e9f",
   "metadata": {},
   "source": [
    "We keep the following attributes because they influence the likelihood of bike purchase:  \n",
    "- Age (derived from BirthDate)  \n",
    "- Education  \n",
    "- Occupation  \n",
    "- Gender  \n",
    "- MaritalStatus  \n",
    "- HomeOwnerFlag  \n",
    "- NumberCarsOwned  \n",
    "- NumberChildrenAtHome  \n",
    "- TotalChildren  \n",
    "- YearlyIncome  \n",
    "\n",
    "We drop identifiers (CustomerID, names, addresses, phone, postal code, etc.) as they don’t affect prediction."
   ]
  },
  {
   "cell_type": "code",
   "execution_count": 6,
   "id": "ae4a75ed",
   "metadata": {},
   "outputs": [],
   "source": [
    "customers = pd.read_csv(\"AWCustomers.csv\")\n",
    "sales = pd.read_csv(\"AWSales.csv\")\n",
    "\n",
    "df = pd.merge(customers, sales, on=\"CustomerID\")\n",
    "\n",
    "df['BirthDate'] = pd.to_datetime(df['BirthDate'], errors='coerce')\n",
    "df['Age'] = (pd.to_datetime(\"today\") - df['BirthDate']).dt.days // 365\n",
    "\n",
    "features = [\"Age\",\"Education\",\"Occupation\",\"Gender\",\"MaritalStatus\",\"HomeOwnerFlag\",\n",
    "            \"NumberCarsOwned\",\"NumberChildrenAtHome\",\"TotalChildren\",\"YearlyIncome\"]\n",
    "\n",
    "df = df[features + [\"BikeBuyer\"]]"
   ]
  },
  {
   "cell_type": "markdown",
   "id": "f8ab3574",
   "metadata": {},
   "source": [
    "#### (b) Create a new Data Frame with the selected attributes only. "
   ]
  },
  {
   "cell_type": "markdown",
   "id": "61127917",
   "metadata": {},
   "source": [
    "The reduced DataFrame now contains only the chosen predictors along with the target variable BikeBuyer."
   ]
  },
  {
   "cell_type": "code",
   "execution_count": 7,
   "id": "0919e658",
   "metadata": {},
   "outputs": [
    {
     "data": {
      "text/html": [
       "<div>\n",
       "<style scoped>\n",
       "    .dataframe tbody tr th:only-of-type {\n",
       "        vertical-align: middle;\n",
       "    }\n",
       "\n",
       "    .dataframe tbody tr th {\n",
       "        vertical-align: top;\n",
       "    }\n",
       "\n",
       "    .dataframe thead th {\n",
       "        text-align: right;\n",
       "    }\n",
       "</style>\n",
       "<table border=\"1\" class=\"dataframe\">\n",
       "  <thead>\n",
       "    <tr style=\"text-align: right;\">\n",
       "      <th></th>\n",
       "      <th>Age</th>\n",
       "      <th>Education</th>\n",
       "      <th>Occupation</th>\n",
       "      <th>Gender</th>\n",
       "      <th>MaritalStatus</th>\n",
       "      <th>HomeOwnerFlag</th>\n",
       "      <th>NumberCarsOwned</th>\n",
       "      <th>NumberChildrenAtHome</th>\n",
       "      <th>TotalChildren</th>\n",
       "      <th>YearlyIncome</th>\n",
       "      <th>BikeBuyer</th>\n",
       "    </tr>\n",
       "  </thead>\n",
       "  <tbody>\n",
       "    <tr>\n",
       "      <th>0</th>\n",
       "      <td>37</td>\n",
       "      <td>Bachelors</td>\n",
       "      <td>Clerical</td>\n",
       "      <td>M</td>\n",
       "      <td>M</td>\n",
       "      <td>1</td>\n",
       "      <td>3</td>\n",
       "      <td>0</td>\n",
       "      <td>1</td>\n",
       "      <td>81916</td>\n",
       "      <td>1</td>\n",
       "    </tr>\n",
       "    <tr>\n",
       "      <th>1</th>\n",
       "      <td>53</td>\n",
       "      <td>Partial College</td>\n",
       "      <td>Clerical</td>\n",
       "      <td>M</td>\n",
       "      <td>M</td>\n",
       "      <td>1</td>\n",
       "      <td>2</td>\n",
       "      <td>1</td>\n",
       "      <td>2</td>\n",
       "      <td>81076</td>\n",
       "      <td>1</td>\n",
       "    </tr>\n",
       "    <tr>\n",
       "      <th>2</th>\n",
       "      <td>39</td>\n",
       "      <td>Bachelors</td>\n",
       "      <td>Clerical</td>\n",
       "      <td>F</td>\n",
       "      <td>S</td>\n",
       "      <td>0</td>\n",
       "      <td>3</td>\n",
       "      <td>0</td>\n",
       "      <td>0</td>\n",
       "      <td>86387</td>\n",
       "      <td>1</td>\n",
       "    </tr>\n",
       "    <tr>\n",
       "      <th>3</th>\n",
       "      <td>47</td>\n",
       "      <td>Partial College</td>\n",
       "      <td>Skilled Manual</td>\n",
       "      <td>M</td>\n",
       "      <td>M</td>\n",
       "      <td>1</td>\n",
       "      <td>2</td>\n",
       "      <td>1</td>\n",
       "      <td>2</td>\n",
       "      <td>61481</td>\n",
       "      <td>1</td>\n",
       "    </tr>\n",
       "    <tr>\n",
       "      <th>4</th>\n",
       "      <td>50</td>\n",
       "      <td>Partial College</td>\n",
       "      <td>Skilled Manual</td>\n",
       "      <td>M</td>\n",
       "      <td>S</td>\n",
       "      <td>1</td>\n",
       "      <td>1</td>\n",
       "      <td>0</td>\n",
       "      <td>0</td>\n",
       "      <td>51804</td>\n",
       "      <td>1</td>\n",
       "    </tr>\n",
       "  </tbody>\n",
       "</table>\n",
       "</div>"
      ],
      "text/plain": [
       "   Age        Education      Occupation Gender MaritalStatus  HomeOwnerFlag  \\\n",
       "0   37        Bachelors        Clerical      M             M              1   \n",
       "1   53  Partial College        Clerical      M             M              1   \n",
       "2   39        Bachelors        Clerical      F             S              0   \n",
       "3   47  Partial College  Skilled Manual      M             M              1   \n",
       "4   50  Partial College  Skilled Manual      M             S              1   \n",
       "\n",
       "   NumberCarsOwned  NumberChildrenAtHome  TotalChildren  YearlyIncome  \\\n",
       "0                3                     0              1         81916   \n",
       "1                2                     1              2         81076   \n",
       "2                3                     0              0         86387   \n",
       "3                2                     1              2         61481   \n",
       "4                1                     0              0         51804   \n",
       "\n",
       "   BikeBuyer  \n",
       "0          1  \n",
       "1          1  \n",
       "2          1  \n",
       "3          1  \n",
       "4          1  "
      ]
     },
     "execution_count": 7,
     "metadata": {},
     "output_type": "execute_result"
    }
   ],
   "source": [
    "df.head()"
   ]
  },
  {
   "cell_type": "markdown",
   "id": "5617d2f3",
   "metadata": {},
   "source": [
    "#### (c) Determine a Data value type (Discrete, or Continuous, then Nominal, Ordinal, Interval, Ratio) of each attribute in your selection to identify preprocessing tasks to create input for your data mining. "
   ]
  },
  {
   "cell_type": "markdown",
   "id": "f922333d",
   "metadata": {},
   "source": [
    "- Age → Continuous, Ratio  \n",
    "- Education → Discrete, Ordinal  \n",
    "- Occupation → Categorical, Nominal  \n",
    "- Gender → Categorical, Nominal (binary)  \n",
    "- MaritalStatus → Categorical, Nominal (binary)  \n",
    "- HomeOwnerFlag → Binary, Nominal  \n",
    "- NumberCarsOwned → Discrete, Ratio  \n",
    "- NumberChildrenAtHome → Discrete, Ratio  \n",
    "- TotalChildren → Discrete, Ratio  \n",
    "- YearlyIncome → Continuous, Ratio  \n",
    "- BikeBuyer (target) → Binary, Nominal"
   ]
  },
  {
   "cell_type": "markdown",
   "id": "01a9ca33",
   "metadata": {},
   "source": [
    "## Part II: Data Preprocessing and Transformation "
   ]
  },
  {
   "cell_type": "markdown",
   "id": "80602fd1",
   "metadata": {},
   "source": [
    "### Depending on the data type of each attribute, transform each object from your preprocessed data. \n",
    "\n",
    "#### Use all the data rows (~= 18000 rows) with the selected features as input to apply all the tasks below, do not perform each task on the smaller data set that you got from your random sampling result."
   ]
  },
  {
   "cell_type": "markdown",
   "id": "4b71b749",
   "metadata": {},
   "source": [
    "#### (a) Handling Null values "
   ]
  },
  {
   "cell_type": "code",
   "execution_count": null,
   "id": "f7abf8b8",
   "metadata": {},
   "outputs": [
    {
     "name": "stdout",
     "output_type": "stream",
     "text": [
      "Age                     0\n",
      "Education               0\n",
      "Occupation              0\n",
      "Gender                  0\n",
      "MaritalStatus           0\n",
      "HomeOwnerFlag           0\n",
      "NumberCarsOwned         0\n",
      "NumberChildrenAtHome    0\n",
      "TotalChildren           0\n",
      "YearlyIncome            0\n",
      "BikeBuyer               0\n",
      "dtype: int64\n",
      "Age                     0\n",
      "Education               0\n",
      "Occupation              0\n",
      "Gender                  0\n",
      "MaritalStatus           0\n",
      "HomeOwnerFlag           0\n",
      "NumberCarsOwned         0\n",
      "NumberChildrenAtHome    0\n",
      "TotalChildren           0\n",
      "YearlyIncome            0\n",
      "BikeBuyer               0\n",
      "dtype: int64\n"
     ]
    }
   ],
   "source": [
    "print(df.isnull().sum())\n",
    "\n",
    "df = df.fillna({\n",
    "    'YearlyIncome': df['YearlyIncome'].median(),\n",
    "    'Education': df['Education'].mode()[0],\n",
    "    'Occupation': df['Occupation'].mode()[0],\n",
    "    'Age': df['Age'].median()\n",
    "})\n",
    "\n",
    "print(df.isnull().sum())\n"
   ]
  },
  {
   "cell_type": "markdown",
   "id": "2b01496f",
   "metadata": {},
   "source": [
    "#### (b) Normalization  "
   ]
  },
  {
   "cell_type": "code",
   "execution_count": 9,
   "id": "e90c5d68",
   "metadata": {},
   "outputs": [],
   "source": [
    "minmax = MinMaxScaler()\n",
    "df[['Age','YearlyIncome']] = minmax.fit_transform(df[['Age','YearlyIncome']])"
   ]
  },
  {
   "cell_type": "markdown",
   "id": "3121338a",
   "metadata": {},
   "source": [
    "#### (c) Discretization (Binning) on Continuous attributes or Categorical Attributes with too many different values  \n"
   ]
  },
  {
   "cell_type": "code",
   "execution_count": 10,
   "id": "0efe6eac",
   "metadata": {},
   "outputs": [
    {
     "data": {
      "text/html": [
       "<div>\n",
       "<style scoped>\n",
       "    .dataframe tbody tr th:only-of-type {\n",
       "        vertical-align: middle;\n",
       "    }\n",
       "\n",
       "    .dataframe tbody tr th {\n",
       "        vertical-align: top;\n",
       "    }\n",
       "\n",
       "    .dataframe thead th {\n",
       "        text-align: right;\n",
       "    }\n",
       "</style>\n",
       "<table border=\"1\" class=\"dataframe\">\n",
       "  <thead>\n",
       "    <tr style=\"text-align: right;\">\n",
       "      <th></th>\n",
       "      <th>YearlyIncome</th>\n",
       "      <th>IncomeBin</th>\n",
       "    </tr>\n",
       "  </thead>\n",
       "  <tbody>\n",
       "    <tr>\n",
       "      <th>0</th>\n",
       "      <td>0.496842</td>\n",
       "      <td>High</td>\n",
       "    </tr>\n",
       "    <tr>\n",
       "      <th>1</th>\n",
       "      <td>0.489453</td>\n",
       "      <td>High</td>\n",
       "    </tr>\n",
       "    <tr>\n",
       "      <th>2</th>\n",
       "      <td>0.536172</td>\n",
       "      <td>High</td>\n",
       "    </tr>\n",
       "    <tr>\n",
       "      <th>3</th>\n",
       "      <td>0.317083</td>\n",
       "      <td>Medium</td>\n",
       "    </tr>\n",
       "    <tr>\n",
       "      <th>4</th>\n",
       "      <td>0.231958</td>\n",
       "      <td>Low</td>\n",
       "    </tr>\n",
       "  </tbody>\n",
       "</table>\n",
       "</div>"
      ],
      "text/plain": [
       "   YearlyIncome IncomeBin\n",
       "0      0.496842      High\n",
       "1      0.489453      High\n",
       "2      0.536172      High\n",
       "3      0.317083    Medium\n",
       "4      0.231958       Low"
      ]
     },
     "execution_count": 10,
     "metadata": {},
     "output_type": "execute_result"
    }
   ],
   "source": [
    "df['IncomeBin'] = pd.qcut(df['YearlyIncome'], q=4, labels=[\"Low\",\"Medium\",\"High\",\"Very High\"])\n",
    "df[['YearlyIncome','IncomeBin']].head()"
   ]
  },
  {
   "cell_type": "markdown",
   "id": "409c1a80",
   "metadata": {},
   "source": [
    "#### (d) Standardization/Normalization "
   ]
  },
  {
   "cell_type": "code",
   "execution_count": 11,
   "id": "289a6805",
   "metadata": {},
   "outputs": [],
   "source": [
    "scaler = StandardScaler()\n",
    "df[['Age','YearlyIncome']] = scaler.fit_transform(df[['Age','YearlyIncome']])"
   ]
  },
  {
   "cell_type": "markdown",
   "id": "874233d2",
   "metadata": {},
   "source": [
    "#### (e) Binarization (One Hot Encoding) "
   ]
  },
  {
   "cell_type": "code",
   "execution_count": 12,
   "id": "2084107e",
   "metadata": {},
   "outputs": [
    {
     "data": {
      "text/html": [
       "<div>\n",
       "<style scoped>\n",
       "    .dataframe tbody tr th:only-of-type {\n",
       "        vertical-align: middle;\n",
       "    }\n",
       "\n",
       "    .dataframe tbody tr th {\n",
       "        vertical-align: top;\n",
       "    }\n",
       "\n",
       "    .dataframe thead th {\n",
       "        text-align: right;\n",
       "    }\n",
       "</style>\n",
       "<table border=\"1\" class=\"dataframe\">\n",
       "  <thead>\n",
       "    <tr style=\"text-align: right;\">\n",
       "      <th></th>\n",
       "      <th>Age</th>\n",
       "      <th>HomeOwnerFlag</th>\n",
       "      <th>NumberCarsOwned</th>\n",
       "      <th>NumberChildrenAtHome</th>\n",
       "      <th>TotalChildren</th>\n",
       "      <th>YearlyIncome</th>\n",
       "      <th>BikeBuyer</th>\n",
       "      <th>Education_Graduate Degree</th>\n",
       "      <th>Education_High School</th>\n",
       "      <th>Education_Partial College</th>\n",
       "      <th>Education_Partial High School</th>\n",
       "      <th>Occupation_Management</th>\n",
       "      <th>Occupation_Manual</th>\n",
       "      <th>Occupation_Professional</th>\n",
       "      <th>Occupation_Skilled Manual</th>\n",
       "      <th>Gender_M</th>\n",
       "      <th>MaritalStatus_S</th>\n",
       "      <th>IncomeBin_Medium</th>\n",
       "      <th>IncomeBin_High</th>\n",
       "      <th>IncomeBin_Very High</th>\n",
       "    </tr>\n",
       "  </thead>\n",
       "  <tbody>\n",
       "    <tr>\n",
       "      <th>0</th>\n",
       "      <td>-0.542546</td>\n",
       "      <td>1</td>\n",
       "      <td>3</td>\n",
       "      <td>0</td>\n",
       "      <td>1</td>\n",
       "      <td>0.298555</td>\n",
       "      <td>1</td>\n",
       "      <td>False</td>\n",
       "      <td>False</td>\n",
       "      <td>False</td>\n",
       "      <td>False</td>\n",
       "      <td>False</td>\n",
       "      <td>False</td>\n",
       "      <td>False</td>\n",
       "      <td>False</td>\n",
       "      <td>True</td>\n",
       "      <td>False</td>\n",
       "      <td>False</td>\n",
       "      <td>True</td>\n",
       "      <td>False</td>\n",
       "    </tr>\n",
       "    <tr>\n",
       "      <th>1</th>\n",
       "      <td>0.877383</td>\n",
       "      <td>1</td>\n",
       "      <td>2</td>\n",
       "      <td>1</td>\n",
       "      <td>2</td>\n",
       "      <td>0.271180</td>\n",
       "      <td>1</td>\n",
       "      <td>False</td>\n",
       "      <td>False</td>\n",
       "      <td>True</td>\n",
       "      <td>False</td>\n",
       "      <td>False</td>\n",
       "      <td>False</td>\n",
       "      <td>False</td>\n",
       "      <td>False</td>\n",
       "      <td>True</td>\n",
       "      <td>False</td>\n",
       "      <td>False</td>\n",
       "      <td>True</td>\n",
       "      <td>False</td>\n",
       "    </tr>\n",
       "    <tr>\n",
       "      <th>2</th>\n",
       "      <td>-0.365055</td>\n",
       "      <td>0</td>\n",
       "      <td>3</td>\n",
       "      <td>0</td>\n",
       "      <td>0</td>\n",
       "      <td>0.444261</td>\n",
       "      <td>1</td>\n",
       "      <td>False</td>\n",
       "      <td>False</td>\n",
       "      <td>False</td>\n",
       "      <td>False</td>\n",
       "      <td>False</td>\n",
       "      <td>False</td>\n",
       "      <td>False</td>\n",
       "      <td>False</td>\n",
       "      <td>False</td>\n",
       "      <td>True</td>\n",
       "      <td>False</td>\n",
       "      <td>True</td>\n",
       "      <td>False</td>\n",
       "    </tr>\n",
       "    <tr>\n",
       "      <th>3</th>\n",
       "      <td>0.344910</td>\n",
       "      <td>1</td>\n",
       "      <td>2</td>\n",
       "      <td>1</td>\n",
       "      <td>2</td>\n",
       "      <td>-0.367401</td>\n",
       "      <td>1</td>\n",
       "      <td>False</td>\n",
       "      <td>False</td>\n",
       "      <td>True</td>\n",
       "      <td>False</td>\n",
       "      <td>False</td>\n",
       "      <td>False</td>\n",
       "      <td>False</td>\n",
       "      <td>True</td>\n",
       "      <td>True</td>\n",
       "      <td>False</td>\n",
       "      <td>True</td>\n",
       "      <td>False</td>\n",
       "      <td>False</td>\n",
       "    </tr>\n",
       "    <tr>\n",
       "      <th>4</th>\n",
       "      <td>0.611147</td>\n",
       "      <td>1</td>\n",
       "      <td>1</td>\n",
       "      <td>0</td>\n",
       "      <td>0</td>\n",
       "      <td>-0.682765</td>\n",
       "      <td>1</td>\n",
       "      <td>False</td>\n",
       "      <td>False</td>\n",
       "      <td>True</td>\n",
       "      <td>False</td>\n",
       "      <td>False</td>\n",
       "      <td>False</td>\n",
       "      <td>False</td>\n",
       "      <td>True</td>\n",
       "      <td>True</td>\n",
       "      <td>True</td>\n",
       "      <td>False</td>\n",
       "      <td>False</td>\n",
       "      <td>False</td>\n",
       "    </tr>\n",
       "  </tbody>\n",
       "</table>\n",
       "</div>"
      ],
      "text/plain": [
       "        Age  HomeOwnerFlag  NumberCarsOwned  NumberChildrenAtHome  \\\n",
       "0 -0.542546              1                3                     0   \n",
       "1  0.877383              1                2                     1   \n",
       "2 -0.365055              0                3                     0   \n",
       "3  0.344910              1                2                     1   \n",
       "4  0.611147              1                1                     0   \n",
       "\n",
       "   TotalChildren  YearlyIncome  BikeBuyer  Education_Graduate Degree  \\\n",
       "0              1      0.298555          1                      False   \n",
       "1              2      0.271180          1                      False   \n",
       "2              0      0.444261          1                      False   \n",
       "3              2     -0.367401          1                      False   \n",
       "4              0     -0.682765          1                      False   \n",
       "\n",
       "   Education_High School  Education_Partial College  \\\n",
       "0                  False                      False   \n",
       "1                  False                       True   \n",
       "2                  False                      False   \n",
       "3                  False                       True   \n",
       "4                  False                       True   \n",
       "\n",
       "   Education_Partial High School  Occupation_Management  Occupation_Manual  \\\n",
       "0                          False                  False              False   \n",
       "1                          False                  False              False   \n",
       "2                          False                  False              False   \n",
       "3                          False                  False              False   \n",
       "4                          False                  False              False   \n",
       "\n",
       "   Occupation_Professional  Occupation_Skilled Manual  Gender_M  \\\n",
       "0                    False                      False      True   \n",
       "1                    False                      False      True   \n",
       "2                    False                      False     False   \n",
       "3                    False                       True      True   \n",
       "4                    False                       True      True   \n",
       "\n",
       "   MaritalStatus_S  IncomeBin_Medium  IncomeBin_High  IncomeBin_Very High  \n",
       "0            False             False            True                False  \n",
       "1            False             False            True                False  \n",
       "2             True             False            True                False  \n",
       "3            False              True           False                False  \n",
       "4             True             False           False                False  "
      ]
     },
     "execution_count": 12,
     "metadata": {},
     "output_type": "execute_result"
    }
   ],
   "source": [
    "df = pd.get_dummies(df, columns=['Education','Occupation','Gender','MaritalStatus','IncomeBin'],\n",
    "                    drop_first=True)\n",
    "df.head()"
   ]
  },
  {
   "cell_type": "markdown",
   "id": "eada7347",
   "metadata": {},
   "source": [
    "## Part III: Calculating Proximity /Correlation Analysis of two features "
   ]
  },
  {
   "cell_type": "markdown",
   "id": "db52d76d",
   "metadata": {},
   "source": [
    "### Make sure each attribute is transformed in a same scale for numeric attributes and Binarization for each nominal attribute, and each discretized numeric attribute to standardization. Make sure to apply a correct similarity measure for nominal (one hot encoding)/binary attributes and numeric attributes respectively. "
   ]
  },
  {
   "cell_type": "markdown",
   "id": "3ce82e68",
   "metadata": {},
   "source": [
    "#### (a) Calculate Similarity in Simple Matching, Jaccard Similarity, and Cosine Similarity between two following objects of your transformed input data. "
   ]
  },
  {
   "cell_type": "code",
   "execution_count": 13,
   "id": "5be3f171",
   "metadata": {},
   "outputs": [
    {
     "name": "stdout",
     "output_type": "stream",
     "text": [
      "Cosine Similarity: 0.7791177379990969\n",
      "Jaccard Similarity: 0.7777777777777778\n",
      "Simple Matching: 0.6842105263157895\n"
     ]
    }
   ],
   "source": [
    "x = df.drop(columns=['BikeBuyer']).iloc[0]\n",
    "y = df.drop(columns=['BikeBuyer']).iloc[1]\n",
    "\n",
    "x_arr, y_arr = x.values, y.values\n",
    "\n",
    "# Cosine\n",
    "cos_sim = cosine_similarity([x_arr],[y_arr])[0][0]\n",
    "\n",
    "# Jaccard (binary mask)\n",
    "bin_x, bin_y = x_arr.astype(bool), y_arr.astype(bool)\n",
    "jaccard_sim = 1 - jaccard(bin_x, bin_y)\n",
    "\n",
    "# Simple Matching\n",
    "simple_matching = np.sum(x_arr == y_arr) / len(x_arr)\n",
    "\n",
    "print(\"Cosine Similarity:\", cos_sim)\n",
    "print(\"Jaccard Similarity:\", jaccard_sim)\n",
    "print(\"Simple Matching:\", simple_matching)"
   ]
  },
  {
   "cell_type": "markdown",
   "id": "8ee7dbe1",
   "metadata": {},
   "source": [
    "#### (b) Calculate Correlation between two features Commute Distance and Yearly Income"
   ]
  },
  {
   "cell_type": "code",
   "execution_count": 15,
   "id": "020ef666",
   "metadata": {},
   "outputs": [
    {
     "name": "stdout",
     "output_type": "stream",
     "text": [
      "CommuteDistance not available in dataset.\n"
     ]
    }
   ],
   "source": [
    "if 'CommuteDistance' in customers.columns:\n",
    "    mapping = {\"0-1 Miles\":1, \"1-2 Miles\":2, \"2-5 Miles\":3, \"5-10 Miles\":4, \"10+ Miles\":5}\n",
    "    customers['CommuteDistance'] = customers['CommuteDistance'].map(mapping)\n",
    "\n",
    "    df_corr = pd.merge(customers[['CustomerID','CommuteDistance']], sales, on=\"CustomerID\")\n",
    "    df_corr = pd.merge(df_corr, customers[['CustomerID','YearlyIncome']], on=\"CustomerID\")\n",
    "\n",
    "    print(df_corr[['CommuteDistance','YearlyIncome']].corr(method='pearson'))\n",
    "else:\n",
    "    print(\"CommuteDistance not available in dataset.\")\n"
   ]
  }
 ],
 "metadata": {
  "kernelspec": {
   "display_name": "Python 3",
   "language": "python",
   "name": "python3"
  },
  "language_info": {
   "codemirror_mode": {
    "name": "ipython",
    "version": 3
   },
   "file_extension": ".py",
   "mimetype": "text/x-python",
   "name": "python",
   "nbconvert_exporter": "python",
   "pygments_lexer": "ipython3",
   "version": "3.12.6"
  }
 },
 "nbformat": 4,
 "nbformat_minor": 5
}
